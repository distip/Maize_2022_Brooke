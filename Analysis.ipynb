{
 "cells": [
  {
   "cell_type": "code",
   "execution_count": 1,
   "metadata": {},
   "outputs": [],
   "source": [
    "import pandas as pd\n",
    "import numpy as np\n",
    "import matplotlib.pyplot as plt\n",
    "import seaborn as sns\n",
    "from sklearn.preprocessing import scale \n",
    "from sklearn.preprocessing import StandardScaler\n",
    "from sklearn import model_selection\n",
    "from sklearn.model_selection import RepeatedKFold\n",
    "from sklearn.model_selection import train_test_split\n",
    "from sklearn.cross_decomposition import PLSRegression\n",
    "from sklearn.metrics import mean_squared_error\n",
    "from sklearn.metrics import r2_score\n",
    "from scipy.signal import savgol_filter\n",
    "from scipy import stats as stats"
   ]
  },
  {
   "cell_type": "code",
   "execution_count": 2,
   "metadata": {},
   "outputs": [],
   "source": [
    "data = pd.read_csv('GS1_ready_for_analysis.csv')"
   ]
  },
  {
   "cell_type": "code",
   "execution_count": 3,
   "metadata": {
    "scrolled": true
   },
   "outputs": [
    {
     "data": {
      "text/plain": [
       "Index(['Unnamed: 0', 'Field Location', 'Source', 'PLOT ID', 'Genotype', 'Rep',\n",
       "       'Plant Number', 'Trt', 'Growth Stage', 'SPADmeter', 'Ambient Humidity',\n",
       "       'Ambient Pressure', 'Ambient Temperature', 'FmPrime', 'FoPrime', 'Fs',\n",
       "       'FvP_over_FmP', 'Leaf Temperature', 'Leaf Temperature Differential',\n",
       "       'leaf_thickness', 'LEF', 'NPQt', 'Phi2', 'PhiNO', 'PhiNPQ',\n",
       "       'PS1 Active Centers', 'PS1 Open Centers', 'PS1 Over Reduced Centers',\n",
       "       'PS1 Oxidized Centers', 'qL', 'SPAD_multispeq', 'vH+', 'Fresh Weight',\n",
       "       'Leaf Area', '350'],\n",
       "      dtype='object')"
      ]
     },
     "execution_count": 3,
     "metadata": {},
     "output_type": "execute_result"
    }
   ],
   "source": [
    "#looking at the columns\n",
    "data.columns[0:35]"
   ]
  },
  {
   "cell_type": "code",
   "execution_count": 4,
   "metadata": {},
   "outputs": [
    {
     "data": {
      "text/html": [
       "<div>\n",
       "<style scoped>\n",
       "    .dataframe tbody tr th:only-of-type {\n",
       "        vertical-align: middle;\n",
       "    }\n",
       "\n",
       "    .dataframe tbody tr th {\n",
       "        vertical-align: top;\n",
       "    }\n",
       "\n",
       "    .dataframe thead th {\n",
       "        text-align: right;\n",
       "    }\n",
       "</style>\n",
       "<table border=\"1\" class=\"dataframe\">\n",
       "  <thead>\n",
       "    <tr style=\"text-align: right;\">\n",
       "      <th></th>\n",
       "      <th>Unnamed: 0</th>\n",
       "      <th>Field Location</th>\n",
       "      <th>Source</th>\n",
       "      <th>PLOT ID</th>\n",
       "      <th>Genotype</th>\n",
       "      <th>Rep</th>\n",
       "      <th>Plant Number</th>\n",
       "      <th>Trt</th>\n",
       "      <th>Growth Stage</th>\n",
       "      <th>SPADmeter</th>\n",
       "      <th>...</th>\n",
       "      <th>2491</th>\n",
       "      <th>2492</th>\n",
       "      <th>2493</th>\n",
       "      <th>2494</th>\n",
       "      <th>2495</th>\n",
       "      <th>2496</th>\n",
       "      <th>2497</th>\n",
       "      <th>2498</th>\n",
       "      <th>2499</th>\n",
       "      <th>2500</th>\n",
       "    </tr>\n",
       "  </thead>\n",
       "  <tbody>\n",
       "    <tr>\n",
       "      <th>0</th>\n",
       "      <td>0</td>\n",
       "      <td>HIPS</td>\n",
       "      <td>field</td>\n",
       "      <td>4104</td>\n",
       "      <td>PHJ40 x LH82</td>\n",
       "      <td>1</td>\n",
       "      <td>1</td>\n",
       "      <td>LN</td>\n",
       "      <td>1.0</td>\n",
       "      <td>NaN</td>\n",
       "      <td>...</td>\n",
       "      <td>0.062700</td>\n",
       "      <td>0.062171</td>\n",
       "      <td>0.061800</td>\n",
       "      <td>0.061500</td>\n",
       "      <td>0.061125</td>\n",
       "      <td>0.060867</td>\n",
       "      <td>0.060542</td>\n",
       "      <td>0.060100</td>\n",
       "      <td>0.059867</td>\n",
       "      <td>0.0600</td>\n",
       "    </tr>\n",
       "    <tr>\n",
       "      <th>1</th>\n",
       "      <td>1</td>\n",
       "      <td>HIPS</td>\n",
       "      <td>GH</td>\n",
       "      <td>4104</td>\n",
       "      <td>PHJ40 x LH82</td>\n",
       "      <td>1</td>\n",
       "      <td>1</td>\n",
       "      <td>LN</td>\n",
       "      <td>1.0</td>\n",
       "      <td>43.566667</td>\n",
       "      <td>...</td>\n",
       "      <td>0.062700</td>\n",
       "      <td>0.062171</td>\n",
       "      <td>0.061800</td>\n",
       "      <td>0.061500</td>\n",
       "      <td>0.061125</td>\n",
       "      <td>0.060867</td>\n",
       "      <td>0.060542</td>\n",
       "      <td>0.060100</td>\n",
       "      <td>0.059867</td>\n",
       "      <td>0.0600</td>\n",
       "    </tr>\n",
       "    <tr>\n",
       "      <th>2</th>\n",
       "      <td>2</td>\n",
       "      <td>HIPS</td>\n",
       "      <td>field</td>\n",
       "      <td>4104</td>\n",
       "      <td>PHJ40 x LH82</td>\n",
       "      <td>1</td>\n",
       "      <td>2</td>\n",
       "      <td>LN</td>\n",
       "      <td>1.0</td>\n",
       "      <td>NaN</td>\n",
       "      <td>...</td>\n",
       "      <td>0.072433</td>\n",
       "      <td>0.072067</td>\n",
       "      <td>0.071808</td>\n",
       "      <td>0.071633</td>\n",
       "      <td>0.071400</td>\n",
       "      <td>0.071200</td>\n",
       "      <td>0.070867</td>\n",
       "      <td>0.070270</td>\n",
       "      <td>0.069833</td>\n",
       "      <td>0.0693</td>\n",
       "    </tr>\n",
       "    <tr>\n",
       "      <th>3</th>\n",
       "      <td>3</td>\n",
       "      <td>HIPS</td>\n",
       "      <td>GH</td>\n",
       "      <td>4104</td>\n",
       "      <td>PHJ40 x LH82</td>\n",
       "      <td>1</td>\n",
       "      <td>2</td>\n",
       "      <td>LN</td>\n",
       "      <td>1.0</td>\n",
       "      <td>49.500000</td>\n",
       "      <td>...</td>\n",
       "      <td>0.072433</td>\n",
       "      <td>0.072067</td>\n",
       "      <td>0.071808</td>\n",
       "      <td>0.071633</td>\n",
       "      <td>0.071400</td>\n",
       "      <td>0.071200</td>\n",
       "      <td>0.070867</td>\n",
       "      <td>0.070270</td>\n",
       "      <td>0.069833</td>\n",
       "      <td>0.0693</td>\n",
       "    </tr>\n",
       "    <tr>\n",
       "      <th>4</th>\n",
       "      <td>4</td>\n",
       "      <td>HIPS</td>\n",
       "      <td>field</td>\n",
       "      <td>4106</td>\n",
       "      <td>2FACC x 3IIH6</td>\n",
       "      <td>1</td>\n",
       "      <td>1</td>\n",
       "      <td>LN</td>\n",
       "      <td>1.0</td>\n",
       "      <td>NaN</td>\n",
       "      <td>...</td>\n",
       "      <td>0.054533</td>\n",
       "      <td>0.054333</td>\n",
       "      <td>0.054086</td>\n",
       "      <td>0.053700</td>\n",
       "      <td>0.053433</td>\n",
       "      <td>0.053167</td>\n",
       "      <td>0.052833</td>\n",
       "      <td>0.052533</td>\n",
       "      <td>0.052233</td>\n",
       "      <td>0.0518</td>\n",
       "    </tr>\n",
       "  </tbody>\n",
       "</table>\n",
       "<p>5 rows × 2185 columns</p>\n",
       "</div>"
      ],
      "text/plain": [
       "   Unnamed: 0 Field Location Source  PLOT ID       Genotype  Rep  \\\n",
       "0           0           HIPS  field     4104   PHJ40 x LH82    1   \n",
       "1           1           HIPS     GH     4104   PHJ40 x LH82    1   \n",
       "2           2           HIPS  field     4104   PHJ40 x LH82    1   \n",
       "3           3           HIPS     GH     4104   PHJ40 x LH82    1   \n",
       "4           4           HIPS  field     4106  2FACC x 3IIH6    1   \n",
       "\n",
       "   Plant Number Trt  Growth Stage  SPADmeter  ...      2491      2492  \\\n",
       "0             1  LN           1.0        NaN  ...  0.062700  0.062171   \n",
       "1             1  LN           1.0  43.566667  ...  0.062700  0.062171   \n",
       "2             2  LN           1.0        NaN  ...  0.072433  0.072067   \n",
       "3             2  LN           1.0  49.500000  ...  0.072433  0.072067   \n",
       "4             1  LN           1.0        NaN  ...  0.054533  0.054333   \n",
       "\n",
       "       2493      2494      2495      2496      2497      2498      2499  \\\n",
       "0  0.061800  0.061500  0.061125  0.060867  0.060542  0.060100  0.059867   \n",
       "1  0.061800  0.061500  0.061125  0.060867  0.060542  0.060100  0.059867   \n",
       "2  0.071808  0.071633  0.071400  0.071200  0.070867  0.070270  0.069833   \n",
       "3  0.071808  0.071633  0.071400  0.071200  0.070867  0.070270  0.069833   \n",
       "4  0.054086  0.053700  0.053433  0.053167  0.052833  0.052533  0.052233   \n",
       "\n",
       "     2500  \n",
       "0  0.0600  \n",
       "1  0.0600  \n",
       "2  0.0693  \n",
       "3  0.0693  \n",
       "4  0.0518  \n",
       "\n",
       "[5 rows x 2185 columns]"
      ]
     },
     "execution_count": 4,
     "metadata": {},
     "output_type": "execute_result"
    }
   ],
   "source": [
    "data.head()"
   ]
  },
  {
   "cell_type": "code",
   "execution_count": 5,
   "metadata": {},
   "outputs": [],
   "source": [
    "#Selecting trait\n",
    "trait = 'Leaf Area'"
   ]
  },
  {
   "cell_type": "code",
   "execution_count": 6,
   "metadata": {},
   "outputs": [],
   "source": [
    "data = data.loc[data['Source'] == 'GH', :]"
   ]
  },
  {
   "cell_type": "code",
   "execution_count": 7,
   "metadata": {},
   "outputs": [],
   "source": [
    "# t test for means\n",
    "hybrids = data.loc[data['Field Location'] == 'HIPS', trait].dropna()\n",
    "parents = data.loc[data['Field Location'] == 'SAM' , trait].dropna()\n",
    "stat = stats.ttest_ind(a=hybrids, b=parents, equal_var=True)\n",
    "pval = [np.round(stat.pvalue, 5), np.round(stat.statistic,2)]"
   ]
  },
  {
   "cell_type": "code",
   "execution_count": 8,
   "metadata": {},
   "outputs": [
    {
     "name": "stdout",
     "output_type": "stream",
     "text": [
      "0.0004113792491005793\n"
     ]
    }
   ],
   "source": [
    "import math\n",
    "print(stat.pvalue)"
   ]
  },
  {
   "cell_type": "code",
   "execution_count": 9,
   "metadata": {},
   "outputs": [
    {
     "data": {
      "text/plain": [
       "([<matplotlib.axis.XTick at 0x7fd12e8f4908>,\n",
       "  <matplotlib.axis.XTick at 0x7fd12e8f4518>],\n",
       " [Text(0, 0, 'Hybrids'), Text(1, 0, 'Inbreds')])"
      ]
     },
     "execution_count": 9,
     "metadata": {},
     "output_type": "execute_result"
    },
    {
     "data": {
      "image/png": "[encoded data removed]",
      "text/plain": [
       "<Figure size 432x288 with 1 Axes>"
      ]
     },
     "metadata": {},
     "output_type": "display_data"
    }
   ],
   "source": [
    "pval2 = 'p=%s, t=%s'  % (pval[0] , pval[1])\n",
    "sns.violinplot(y= trait, x='Field Location', data=data)\n",
    "xmin , xmax , ymin, ymax = plt.axis()\n",
    "plt.text((xmax)/7, ymax*0.95, pval2, fontsize=12)\n",
    "plt.title('Leaf Fresh Weight', fontsize=18)\n",
    "plt.xlabel('Fields', fontsize=14)\n",
    "plt.ylabel('Leaf Freh Weight (g)', fontsize=13)\n",
    "plt.xticks(ticks=[0,1], labels=['Hybrids', 'Inbreds'])"
   ]
  },
  {
   "cell_type": "code",
   "execution_count": 10,
   "metadata": {},
   "outputs": [],
   "source": [
    "sam_spectrum = data.loc[data['Field Location'] == 'SAM', :] #.iloc[: , data.columns.get_loc('350'): data.columns.get_loc('2500') +1]"
   ]
  },
  {
   "cell_type": "code",
   "execution_count": 11,
   "metadata": {},
   "outputs": [],
   "source": [
    "sam_spectrum = sam_spectrum.iloc[: , sam_spectrum.columns.get_loc('350'): sam_spectrum.columns.get_loc('2500') + 1]"
   ]
  },
  {
   "cell_type": "code",
   "execution_count": 12,
   "metadata": {},
   "outputs": [],
   "source": [
    "hips_spectrum = data.loc[data['Field Location'] == 'HIPS', :].iloc[: , data.columns.get_loc('350'): data.columns.get_loc('2500') +1]"
   ]
  },
  {
   "cell_type": "code",
   "execution_count": 13,
   "metadata": {},
   "outputs": [
    {
     "data": {
      "text/plain": [
       "Text(0, 0.5, 'Reflectance')"
      ]
     },
     "execution_count": 13,
     "metadata": {},
     "output_type": "execute_result"
    },
    {
     "data": {
      "image/png": "[encoded data removed]",
      "text/plain": [
       "<Figure size 432x288 with 1 Axes>"
      ]
     },
     "metadata": {},
     "output_type": "display_data"
    }
   ],
   "source": [
    "plt.plot(hips_spectrum.mean().T, color= 'r', label= 'HIPS')\n",
    "plt.plot(sam_spectrum.mean().T, color= 'g', label = 'SAM')\n",
    "plt.legend()\n",
    "plt.xticks(ticks=['450', '700', '900', '1500', '2000', '2500'])\n",
    "plt.xlabel('Wavelength')\n",
    "plt.ylabel('Reflectance')"
   ]
  },
  {
   "cell_type": "code",
   "execution_count": 14,
   "metadata": {},
   "outputs": [
    {
     "data": {
      "text/plain": [
       "HIPS    216\n",
       "SAM      68\n",
       "Name: Field Location, dtype: int64"
      ]
     },
     "execution_count": 14,
     "metadata": {},
     "output_type": "execute_result"
    }
   ],
   "source": [
    "data['Field Location'].value_counts()"
   ]
  },
  {
   "cell_type": "code",
   "execution_count": 15,
   "metadata": {},
   "outputs": [],
   "source": [
    "# selecting the source\n",
    "data =data.loc[data['Source'] == 'GH' , :]"
   ]
  },
  {
   "cell_type": "code",
   "execution_count": 16,
   "metadata": {},
   "outputs": [],
   "source": [
    "# Remove NaNs\n",
    "data=data.loc[data[trait].notnull() , :]"
   ]
  },
  {
   "cell_type": "code",
   "execution_count": 17,
   "metadata": {},
   "outputs": [],
   "source": [
    "data= data.loc[data['450'].notnull(), :]"
   ]
  },
  {
   "cell_type": "code",
   "execution_count": 18,
   "metadata": {},
   "outputs": [],
   "source": [
    "y = data.loc[: , trait]"
   ]
  },
  {
   "cell_type": "code",
   "execution_count": 19,
   "metadata": {},
   "outputs": [],
   "source": [
    "# identifying the X\n",
    "position_350 = data.columns.get_loc('350')\n",
    "position_2500 = data.columns.get_loc('2500') + 1 \n",
    "X = data.iloc[:, position_350 : position_2500]"
   ]
  },
  {
   "cell_type": "code",
   "execution_count": 20,
   "metadata": {},
   "outputs": [],
   "source": [
    "col_names=X.columns"
   ]
  },
  {
   "cell_type": "code",
   "execution_count": 21,
   "metadata": {},
   "outputs": [
    {
     "data": {
      "text/plain": [
       "(281, 2151)"
      ]
     },
     "execution_count": 21,
     "metadata": {},
     "output_type": "execute_result"
    }
   ],
   "source": [
    "X.shape"
   ]
  },
  {
   "cell_type": "code",
   "execution_count": null,
   "metadata": {},
   "outputs": [],
   "source": []
  },
  {
   "cell_type": "code",
   "execution_count": 22,
   "metadata": {},
   "outputs": [],
   "source": [
    "#applying savitzky golay\n",
    "X = savgol_filter(X, window_length=5 , polyorder = 2)\n",
    "X = pd.DataFrame(X, columns=col_names)"
   ]
  },
  {
   "cell_type": "code",
   "execution_count": 23,
   "metadata": {},
   "outputs": [],
   "source": [
    "#drop first 100 column\n",
    "X = X.drop(X.columns[0:100], axis=1)"
   ]
  },
  {
   "cell_type": "code",
   "execution_count": 24,
   "metadata": {},
   "outputs": [],
   "source": [
    "#Create a np array for downsampling for every 5 nm\n",
    "column_filter = np.arange(0, 2055, 5)"
   ]
  },
  {
   "cell_type": "code",
   "execution_count": 25,
   "metadata": {},
   "outputs": [],
   "source": [
    "# Choose from the X based on filtering array\n",
    "X = X.iloc[: , column_filter]"
   ]
  },
  {
   "cell_type": "code",
   "execution_count": 26,
   "metadata": {},
   "outputs": [
    {
     "data": {
      "text/html": [
       "<div>\n",
       "<style scoped>\n",
       "    .dataframe tbody tr th:only-of-type {\n",
       "        vertical-align: middle;\n",
       "    }\n",
       "\n",
       "    .dataframe tbody tr th {\n",
       "        vertical-align: top;\n",
       "    }\n",
       "\n",
       "    .dataframe thead th {\n",
       "        text-align: right;\n",
       "    }\n",
       "</style>\n",
       "<table border=\"1\" class=\"dataframe\">\n",
       "  <thead>\n",
       "    <tr style=\"text-align: right;\">\n",
       "      <th></th>\n",
       "      <th>450</th>\n",
       "      <th>455</th>\n",
       "      <th>460</th>\n",
       "      <th>465</th>\n",
       "      <th>470</th>\n",
       "      <th>475</th>\n",
       "      <th>480</th>\n",
       "      <th>485</th>\n",
       "      <th>490</th>\n",
       "      <th>495</th>\n",
       "      <th>...</th>\n",
       "      <th>2455</th>\n",
       "      <th>2460</th>\n",
       "      <th>2465</th>\n",
       "      <th>2470</th>\n",
       "      <th>2475</th>\n",
       "      <th>2480</th>\n",
       "      <th>2485</th>\n",
       "      <th>2490</th>\n",
       "      <th>2495</th>\n",
       "      <th>2500</th>\n",
       "    </tr>\n",
       "  </thead>\n",
       "  <tbody>\n",
       "    <tr>\n",
       "      <th>0</th>\n",
       "      <td>0.053652</td>\n",
       "      <td>0.055042</td>\n",
       "      <td>0.055857</td>\n",
       "      <td>0.055601</td>\n",
       "      <td>0.055264</td>\n",
       "      <td>0.055215</td>\n",
       "      <td>0.056182</td>\n",
       "      <td>0.056428</td>\n",
       "      <td>0.058073</td>\n",
       "      <td>0.060495</td>\n",
       "      <td>...</td>\n",
       "      <td>0.079264</td>\n",
       "      <td>0.076277</td>\n",
       "      <td>0.073711</td>\n",
       "      <td>0.071128</td>\n",
       "      <td>0.068609</td>\n",
       "      <td>0.066713</td>\n",
       "      <td>0.064766</td>\n",
       "      <td>0.062966</td>\n",
       "      <td>0.061157</td>\n",
       "      <td>0.059954</td>\n",
       "    </tr>\n",
       "    <tr>\n",
       "      <th>1</th>\n",
       "      <td>0.058169</td>\n",
       "      <td>0.059998</td>\n",
       "      <td>0.061030</td>\n",
       "      <td>0.061664</td>\n",
       "      <td>0.061849</td>\n",
       "      <td>0.062109</td>\n",
       "      <td>0.062616</td>\n",
       "      <td>0.063506</td>\n",
       "      <td>0.065533</td>\n",
       "      <td>0.069101</td>\n",
       "      <td>...</td>\n",
       "      <td>0.091355</td>\n",
       "      <td>0.088120</td>\n",
       "      <td>0.085164</td>\n",
       "      <td>0.082505</td>\n",
       "      <td>0.079846</td>\n",
       "      <td>0.077179</td>\n",
       "      <td>0.075231</td>\n",
       "      <td>0.072884</td>\n",
       "      <td>0.071422</td>\n",
       "      <td>0.069293</td>\n",
       "    </tr>\n",
       "    <tr>\n",
       "      <th>2</th>\n",
       "      <td>0.056875</td>\n",
       "      <td>0.057719</td>\n",
       "      <td>0.058697</td>\n",
       "      <td>0.058876</td>\n",
       "      <td>0.058923</td>\n",
       "      <td>0.058356</td>\n",
       "      <td>0.058692</td>\n",
       "      <td>0.059097</td>\n",
       "      <td>0.060661</td>\n",
       "      <td>0.062825</td>\n",
       "      <td>...</td>\n",
       "      <td>0.069376</td>\n",
       "      <td>0.066619</td>\n",
       "      <td>0.064146</td>\n",
       "      <td>0.061778</td>\n",
       "      <td>0.059736</td>\n",
       "      <td>0.057862</td>\n",
       "      <td>0.056117</td>\n",
       "      <td>0.054806</td>\n",
       "      <td>0.053429</td>\n",
       "      <td>0.051818</td>\n",
       "    </tr>\n",
       "    <tr>\n",
       "      <th>3</th>\n",
       "      <td>0.060520</td>\n",
       "      <td>0.061697</td>\n",
       "      <td>0.062635</td>\n",
       "      <td>0.063022</td>\n",
       "      <td>0.063029</td>\n",
       "      <td>0.063101</td>\n",
       "      <td>0.063390</td>\n",
       "      <td>0.063876</td>\n",
       "      <td>0.065190</td>\n",
       "      <td>0.067642</td>\n",
       "      <td>...</td>\n",
       "      <td>0.083531</td>\n",
       "      <td>0.081014</td>\n",
       "      <td>0.078316</td>\n",
       "      <td>0.076117</td>\n",
       "      <td>0.073774</td>\n",
       "      <td>0.071798</td>\n",
       "      <td>0.069882</td>\n",
       "      <td>0.068222</td>\n",
       "      <td>0.066663</td>\n",
       "      <td>0.065284</td>\n",
       "    </tr>\n",
       "    <tr>\n",
       "      <th>4</th>\n",
       "      <td>0.057057</td>\n",
       "      <td>0.058450</td>\n",
       "      <td>0.059313</td>\n",
       "      <td>0.059579</td>\n",
       "      <td>0.059548</td>\n",
       "      <td>0.059632</td>\n",
       "      <td>0.059885</td>\n",
       "      <td>0.060501</td>\n",
       "      <td>0.061867</td>\n",
       "      <td>0.064645</td>\n",
       "      <td>...</td>\n",
       "      <td>0.076214</td>\n",
       "      <td>0.073949</td>\n",
       "      <td>0.071496</td>\n",
       "      <td>0.069559</td>\n",
       "      <td>0.067203</td>\n",
       "      <td>0.065587</td>\n",
       "      <td>0.063719</td>\n",
       "      <td>0.062053</td>\n",
       "      <td>0.060914</td>\n",
       "      <td>0.059837</td>\n",
       "    </tr>\n",
       "  </tbody>\n",
       "</table>\n",
       "<p>5 rows × 411 columns</p>\n",
       "</div>"
      ],
      "text/plain": [
       "        450       455       460       465       470       475       480  \\\n",
       "0  0.053652  0.055042  0.055857  0.055601  0.055264  0.055215  0.056182   \n",
       "1  0.058169  0.059998  0.061030  0.061664  0.061849  0.062109  0.062616   \n",
       "2  0.056875  0.057719  0.058697  0.058876  0.058923  0.058356  0.058692   \n",
       "3  0.060520  0.061697  0.062635  0.063022  0.063029  0.063101  0.063390   \n",
       "4  0.057057  0.058450  0.059313  0.059579  0.059548  0.059632  0.059885   \n",
       "\n",
       "        485       490       495  ...      2455      2460      2465      2470  \\\n",
       "0  0.056428  0.058073  0.060495  ...  0.079264  0.076277  0.073711  0.071128   \n",
       "1  0.063506  0.065533  0.069101  ...  0.091355  0.088120  0.085164  0.082505   \n",
       "2  0.059097  0.060661  0.062825  ...  0.069376  0.066619  0.064146  0.061778   \n",
       "3  0.063876  0.065190  0.067642  ...  0.083531  0.081014  0.078316  0.076117   \n",
       "4  0.060501  0.061867  0.064645  ...  0.076214  0.073949  0.071496  0.069559   \n",
       "\n",
       "       2475      2480      2485      2490      2495      2500  \n",
       "0  0.068609  0.066713  0.064766  0.062966  0.061157  0.059954  \n",
       "1  0.079846  0.077179  0.075231  0.072884  0.071422  0.069293  \n",
       "2  0.059736  0.057862  0.056117  0.054806  0.053429  0.051818  \n",
       "3  0.073774  0.071798  0.069882  0.068222  0.066663  0.065284  \n",
       "4  0.067203  0.065587  0.063719  0.062053  0.060914  0.059837  \n",
       "\n",
       "[5 rows x 411 columns]"
      ]
     },
     "execution_count": 26,
     "metadata": {},
     "output_type": "execute_result"
    }
   ],
   "source": [
    "X.head()"
   ]
  },
  {
   "cell_type": "code",
   "execution_count": 27,
   "metadata": {},
   "outputs": [],
   "source": [
    "# split the dataset into training (60%) and testing (40%) sets\n",
    "X_train,X_test,y_train,y_test = train_test_split(X, y,test_size=0.4)"
   ]
  },
  {
   "cell_type": "code",
   "execution_count": 28,
   "metadata": {},
   "outputs": [
    {
     "data": {
      "text/plain": [
       "159    280.2\n",
       "145    309.5\n",
       "379    232.3\n",
       "475    220.8\n",
       "399    278.3\n",
       "       ...  \n",
       "207    211.0\n",
       "349    301.1\n",
       "37     379.5\n",
       "484    450.0\n",
       "173    267.3\n",
       "Name: Leaf Area, Length: 113, dtype: float64"
      ]
     },
     "execution_count": 28,
     "metadata": {},
     "output_type": "execute_result"
    }
   ],
   "source": [
    "y_test"
   ]
  },
  {
   "cell_type": "code",
   "execution_count": 29,
   "metadata": {},
   "outputs": [],
   "source": [
    "y_test2 = pd.DataFrame(y_test)"
   ]
  },
  {
   "cell_type": "code",
   "execution_count": 30,
   "metadata": {},
   "outputs": [],
   "source": [
    "index = y_test2.index"
   ]
  },
  {
   "cell_type": "code",
   "execution_count": 31,
   "metadata": {},
   "outputs": [
    {
     "data": {
      "text/plain": [
       "PLSRegression(n_components=14)"
      ]
     },
     "execution_count": 31,
     "metadata": {},
     "output_type": "execute_result"
    }
   ],
   "source": [
    "### calculate RMSE\n",
    "pls = PLSRegression(n_components=14)\n",
    "pls.fit(X_train, y_train)"
   ]
  },
  {
   "cell_type": "code",
   "execution_count": 32,
   "metadata": {},
   "outputs": [
    {
     "data": {
      "text/plain": [
       "54.27014489979052"
      ]
     },
     "execution_count": 32,
     "metadata": {},
     "output_type": "execute_result"
    }
   ],
   "source": [
    "np.sqrt(mean_squared_error(y_test, pls.predict(X_test)))"
   ]
  },
  {
   "cell_type": "code",
   "execution_count": 33,
   "metadata": {},
   "outputs": [],
   "source": [
    "y_pred = pls.predict(X_test)"
   ]
  },
  {
   "cell_type": "code",
   "execution_count": null,
   "metadata": {},
   "outputs": [],
   "source": []
  },
  {
   "cell_type": "code",
   "execution_count": 34,
   "metadata": {},
   "outputs": [],
   "source": [
    "y_pred = pd.DataFrame(y_pred, columns=['Predicted'])"
   ]
  },
  {
   "cell_type": "code",
   "execution_count": 35,
   "metadata": {},
   "outputs": [],
   "source": [
    "y_pred.set_index(keys=index, drop=True, append=False, inplace=True)"
   ]
  },
  {
   "cell_type": "code",
   "execution_count": 36,
   "metadata": {},
   "outputs": [],
   "source": [
    "gtvspred = pd.concat([y_test, y_pred], axis=1)"
   ]
  },
  {
   "cell_type": "code",
   "execution_count": 37,
   "metadata": {},
   "outputs": [
    {
     "data": {
      "text/html": [
       "<div>\n",
       "<style scoped>\n",
       "    .dataframe tbody tr th:only-of-type {\n",
       "        vertical-align: middle;\n",
       "    }\n",
       "\n",
       "    .dataframe tbody tr th {\n",
       "        vertical-align: top;\n",
       "    }\n",
       "\n",
       "    .dataframe thead th {\n",
       "        text-align: right;\n",
       "    }\n",
       "</style>\n",
       "<table border=\"1\" class=\"dataframe\">\n",
       "  <thead>\n",
       "    <tr style=\"text-align: right;\">\n",
       "      <th></th>\n",
       "      <th>Leaf Area</th>\n",
       "      <th>Predicted</th>\n",
       "    </tr>\n",
       "  </thead>\n",
       "  <tbody>\n",
       "    <tr>\n",
       "      <th>159</th>\n",
       "      <td>280.2</td>\n",
       "      <td>293.139769</td>\n",
       "    </tr>\n",
       "    <tr>\n",
       "      <th>145</th>\n",
       "      <td>309.5</td>\n",
       "      <td>271.702077</td>\n",
       "    </tr>\n",
       "    <tr>\n",
       "      <th>379</th>\n",
       "      <td>232.3</td>\n",
       "      <td>270.505226</td>\n",
       "    </tr>\n",
       "    <tr>\n",
       "      <th>475</th>\n",
       "      <td>220.8</td>\n",
       "      <td>221.277137</td>\n",
       "    </tr>\n",
       "    <tr>\n",
       "      <th>399</th>\n",
       "      <td>278.3</td>\n",
       "      <td>314.519211</td>\n",
       "    </tr>\n",
       "    <tr>\n",
       "      <th>...</th>\n",
       "      <td>...</td>\n",
       "      <td>...</td>\n",
       "    </tr>\n",
       "    <tr>\n",
       "      <th>207</th>\n",
       "      <td>211.0</td>\n",
       "      <td>281.850495</td>\n",
       "    </tr>\n",
       "    <tr>\n",
       "      <th>349</th>\n",
       "      <td>301.1</td>\n",
       "      <td>277.530054</td>\n",
       "    </tr>\n",
       "    <tr>\n",
       "      <th>37</th>\n",
       "      <td>379.5</td>\n",
       "      <td>274.100881</td>\n",
       "    </tr>\n",
       "    <tr>\n",
       "      <th>484</th>\n",
       "      <td>450.0</td>\n",
       "      <td>390.908242</td>\n",
       "    </tr>\n",
       "    <tr>\n",
       "      <th>173</th>\n",
       "      <td>267.3</td>\n",
       "      <td>303.067970</td>\n",
       "    </tr>\n",
       "  </tbody>\n",
       "</table>\n",
       "<p>113 rows × 2 columns</p>\n",
       "</div>"
      ],
      "text/plain": [
       "     Leaf Area   Predicted\n",
       "159      280.2  293.139769\n",
       "145      309.5  271.702077\n",
       "379      232.3  270.505226\n",
       "475      220.8  221.277137\n",
       "399      278.3  314.519211\n",
       "..         ...         ...\n",
       "207      211.0  281.850495\n",
       "349      301.1  277.530054\n",
       "37       379.5  274.100881\n",
       "484      450.0  390.908242\n",
       "173      267.3  303.067970\n",
       "\n",
       "[113 rows x 2 columns]"
      ]
     },
     "execution_count": 37,
     "metadata": {},
     "output_type": "execute_result"
    }
   ],
   "source": [
    "gtvspred"
   ]
  },
  {
   "cell_type": "code",
   "execution_count": 38,
   "metadata": {},
   "outputs": [],
   "source": [
    "foranalysis = pd.concat([data.loc[index, ['PLOT ID', 'Genotype']], gtvspred], axis=1)"
   ]
  },
  {
   "cell_type": "code",
   "execution_count": 39,
   "metadata": {},
   "outputs": [
    {
     "data": {
      "text/html": [
       "<div>\n",
       "<style scoped>\n",
       "    .dataframe tbody tr th:only-of-type {\n",
       "        vertical-align: middle;\n",
       "    }\n",
       "\n",
       "    .dataframe tbody tr th {\n",
       "        vertical-align: top;\n",
       "    }\n",
       "\n",
       "    .dataframe thead th {\n",
       "        text-align: right;\n",
       "    }\n",
       "</style>\n",
       "<table border=\"1\" class=\"dataframe\">\n",
       "  <thead>\n",
       "    <tr style=\"text-align: right;\">\n",
       "      <th></th>\n",
       "      <th>PLOT ID</th>\n",
       "      <th>Genotype</th>\n",
       "      <th>Leaf Area</th>\n",
       "      <th>Predicted</th>\n",
       "    </tr>\n",
       "  </thead>\n",
       "  <tbody>\n",
       "    <tr>\n",
       "      <th>159</th>\n",
       "      <td>5128</td>\n",
       "      <td>PHK76 x LH145</td>\n",
       "      <td>280.2</td>\n",
       "      <td>293.139769</td>\n",
       "    </tr>\n",
       "    <tr>\n",
       "      <th>145</th>\n",
       "      <td>5116</td>\n",
       "      <td>B37 x H95</td>\n",
       "      <td>309.5</td>\n",
       "      <td>271.702077</td>\n",
       "    </tr>\n",
       "    <tr>\n",
       "      <th>379</th>\n",
       "      <td>6226</td>\n",
       "      <td>2FACC x 3IIH6</td>\n",
       "      <td>232.3</td>\n",
       "      <td>270.505226</td>\n",
       "    </tr>\n",
       "    <tr>\n",
       "      <th>475</th>\n",
       "      <td>2127</td>\n",
       "      <td>PHJ40@</td>\n",
       "      <td>220.8</td>\n",
       "      <td>221.277137</td>\n",
       "    </tr>\n",
       "    <tr>\n",
       "      <th>399</th>\n",
       "      <td>6261</td>\n",
       "      <td>B14A x Mo17</td>\n",
       "      <td>278.3</td>\n",
       "      <td>314.519211</td>\n",
       "    </tr>\n",
       "    <tr>\n",
       "      <th>...</th>\n",
       "      <td>...</td>\n",
       "      <td>...</td>\n",
       "      <td>...</td>\n",
       "      <td>...</td>\n",
       "    </tr>\n",
       "    <tr>\n",
       "      <th>207</th>\n",
       "      <td>5176</td>\n",
       "      <td>B73 x Mo17</td>\n",
       "      <td>211.0</td>\n",
       "      <td>281.850495</td>\n",
       "    </tr>\n",
       "    <tr>\n",
       "      <th>349</th>\n",
       "      <td>6159</td>\n",
       "      <td>2FACC x 3IIH6</td>\n",
       "      <td>301.1</td>\n",
       "      <td>277.530054</td>\n",
       "    </tr>\n",
       "    <tr>\n",
       "      <th>37</th>\n",
       "      <td>4128</td>\n",
       "      <td>F42 x Mo17</td>\n",
       "      <td>379.5</td>\n",
       "      <td>274.100881</td>\n",
       "    </tr>\n",
       "    <tr>\n",
       "      <th>484</th>\n",
       "      <td>2225</td>\n",
       "      <td>Oh43E@</td>\n",
       "      <td>450.0</td>\n",
       "      <td>390.908242</td>\n",
       "    </tr>\n",
       "    <tr>\n",
       "      <th>173</th>\n",
       "      <td>5144</td>\n",
       "      <td>2FACC x 3IIH6</td>\n",
       "      <td>267.3</td>\n",
       "      <td>303.067970</td>\n",
       "    </tr>\n",
       "  </tbody>\n",
       "</table>\n",
       "<p>113 rows × 4 columns</p>\n",
       "</div>"
      ],
      "text/plain": [
       "     PLOT ID       Genotype  Leaf Area   Predicted\n",
       "159     5128  PHK76 x LH145      280.2  293.139769\n",
       "145     5116      B37 x H95      309.5  271.702077\n",
       "379     6226  2FACC x 3IIH6      232.3  270.505226\n",
       "475     2127         PHJ40@      220.8  221.277137\n",
       "399     6261    B14A x Mo17      278.3  314.519211\n",
       "..       ...            ...        ...         ...\n",
       "207     5176     B73 x Mo17      211.0  281.850495\n",
       "349     6159  2FACC x 3IIH6      301.1  277.530054\n",
       "37      4128     F42 x Mo17      379.5  274.100881\n",
       "484     2225         Oh43E@      450.0  390.908242\n",
       "173     5144  2FACC x 3IIH6      267.3  303.067970\n",
       "\n",
       "[113 rows x 4 columns]"
      ]
     },
     "execution_count": 39,
     "metadata": {},
     "output_type": "execute_result"
    }
   ],
   "source": [
    "foranalysis"
   ]
  },
  {
   "cell_type": "code",
   "execution_count": 40,
   "metadata": {},
   "outputs": [],
   "source": [
    "#export for heterosis calculation\n",
    "foranalysis.to_csv('heterosis_in_gs1.csv')"
   ]
  },
  {
   "cell_type": "code",
   "execution_count": 41,
   "metadata": {},
   "outputs": [],
   "source": [
    "data2 = pd.read_csv('heterosis_prediction_file.csv')"
   ]
  },
  {
   "cell_type": "code",
   "execution_count": 42,
   "metadata": {},
   "outputs": [
    {
     "data": {
      "text/html": [
       "<div>\n",
       "<style scoped>\n",
       "    .dataframe tbody tr th:only-of-type {\n",
       "        vertical-align: middle;\n",
       "    }\n",
       "\n",
       "    .dataframe tbody tr th {\n",
       "        vertical-align: top;\n",
       "    }\n",
       "\n",
       "    .dataframe thead th {\n",
       "        text-align: right;\n",
       "    }\n",
       "</style>\n",
       "<table border=\"1\" class=\"dataframe\">\n",
       "  <thead>\n",
       "    <tr style=\"text-align: right;\">\n",
       "      <th></th>\n",
       "      <th>Hybrid</th>\n",
       "      <th>Observed Heterosis</th>\n",
       "      <th>Predicted Heterosis</th>\n",
       "      <th>Trait</th>\n",
       "    </tr>\n",
       "  </thead>\n",
       "  <tbody>\n",
       "    <tr>\n",
       "      <th>0</th>\n",
       "      <td>2FACC x 3IIH6</td>\n",
       "      <td>17.063492</td>\n",
       "      <td>25.150766</td>\n",
       "      <td>FW</td>\n",
       "    </tr>\n",
       "    <tr>\n",
       "      <th>1</th>\n",
       "      <td>B14A x Mo17</td>\n",
       "      <td>78.769018</td>\n",
       "      <td>40.798071</td>\n",
       "      <td>FW</td>\n",
       "    </tr>\n",
       "    <tr>\n",
       "      <th>2</th>\n",
       "      <td>B37 x Mo17</td>\n",
       "      <td>28.478261</td>\n",
       "      <td>15.230531</td>\n",
       "      <td>FW</td>\n",
       "    </tr>\n",
       "    <tr>\n",
       "      <th>3</th>\n",
       "      <td>B37 x OH43</td>\n",
       "      <td>-30.294906</td>\n",
       "      <td>-16.526290</td>\n",
       "      <td>FW</td>\n",
       "    </tr>\n",
       "    <tr>\n",
       "      <th>4</th>\n",
       "      <td>B73 x 3IIH6</td>\n",
       "      <td>3.032659</td>\n",
       "      <td>9.741629</td>\n",
       "      <td>FW</td>\n",
       "    </tr>\n",
       "    <tr>\n",
       "      <th>5</th>\n",
       "      <td>B73 x Mo17</td>\n",
       "      <td>-6.577975</td>\n",
       "      <td>9.557113</td>\n",
       "      <td>FW</td>\n",
       "    </tr>\n",
       "    <tr>\n",
       "      <th>6</th>\n",
       "      <td>B73 x PHZ51</td>\n",
       "      <td>13.429952</td>\n",
       "      <td>-8.395925</td>\n",
       "      <td>FW</td>\n",
       "    </tr>\n",
       "    <tr>\n",
       "      <th>7</th>\n",
       "      <td>B84 x 3IIH6</td>\n",
       "      <td>11.913357</td>\n",
       "      <td>10.014490</td>\n",
       "      <td>FW</td>\n",
       "    </tr>\n",
       "    <tr>\n",
       "      <th>8</th>\n",
       "      <td>F42 x Mo17</td>\n",
       "      <td>17.481203</td>\n",
       "      <td>12.439531</td>\n",
       "      <td>FW</td>\n",
       "    </tr>\n",
       "    <tr>\n",
       "      <th>9</th>\n",
       "      <td>F42 x OH43</td>\n",
       "      <td>-21.913203</td>\n",
       "      <td>-12.577348</td>\n",
       "      <td>FW</td>\n",
       "    </tr>\n",
       "    <tr>\n",
       "      <th>10</th>\n",
       "      <td>LH123HT x 3IIH6</td>\n",
       "      <td>2.014218</td>\n",
       "      <td>15.698641</td>\n",
       "      <td>FW</td>\n",
       "    </tr>\n",
       "    <tr>\n",
       "      <th>11</th>\n",
       "      <td>PHJ40 x LH82</td>\n",
       "      <td>-1.805054</td>\n",
       "      <td>-16.872240</td>\n",
       "      <td>FW</td>\n",
       "    </tr>\n",
       "    <tr>\n",
       "      <th>12</th>\n",
       "      <td>PHZ51 x LH145</td>\n",
       "      <td>11.027190</td>\n",
       "      <td>4.564446</td>\n",
       "      <td>FW</td>\n",
       "    </tr>\n",
       "    <tr>\n",
       "      <th>13</th>\n",
       "      <td>WF9 x H95</td>\n",
       "      <td>43.276489</td>\n",
       "      <td>16.149389</td>\n",
       "      <td>FW</td>\n",
       "    </tr>\n",
       "    <tr>\n",
       "      <th>14</th>\n",
       "      <td>2FACC x 3IIH6</td>\n",
       "      <td>13.226501</td>\n",
       "      <td>15.655844</td>\n",
       "      <td>SPAD</td>\n",
       "    </tr>\n",
       "    <tr>\n",
       "      <th>15</th>\n",
       "      <td>B14A x Mo17</td>\n",
       "      <td>15.894608</td>\n",
       "      <td>13.154273</td>\n",
       "      <td>SPAD</td>\n",
       "    </tr>\n",
       "    <tr>\n",
       "      <th>16</th>\n",
       "      <td>B37 x H95</td>\n",
       "      <td>15.708692</td>\n",
       "      <td>7.105964</td>\n",
       "      <td>SPAD</td>\n",
       "    </tr>\n",
       "    <tr>\n",
       "      <th>17</th>\n",
       "      <td>B37 x Mo17</td>\n",
       "      <td>13.703888</td>\n",
       "      <td>4.193709</td>\n",
       "      <td>SPAD</td>\n",
       "    </tr>\n",
       "    <tr>\n",
       "      <th>18</th>\n",
       "      <td>B37 x OH43</td>\n",
       "      <td>15.787377</td>\n",
       "      <td>5.397756</td>\n",
       "      <td>SPAD</td>\n",
       "    </tr>\n",
       "    <tr>\n",
       "      <th>19</th>\n",
       "      <td>B84 x 3IIH6</td>\n",
       "      <td>18.215399</td>\n",
       "      <td>12.482623</td>\n",
       "      <td>SPAD</td>\n",
       "    </tr>\n",
       "    <tr>\n",
       "      <th>20</th>\n",
       "      <td>F42 x Mo17</td>\n",
       "      <td>4.281447</td>\n",
       "      <td>5.462999</td>\n",
       "      <td>SPAD</td>\n",
       "    </tr>\n",
       "    <tr>\n",
       "      <th>21</th>\n",
       "      <td>F42 x OH43</td>\n",
       "      <td>12.425363</td>\n",
       "      <td>6.024180</td>\n",
       "      <td>SPAD</td>\n",
       "    </tr>\n",
       "    <tr>\n",
       "      <th>22</th>\n",
       "      <td>LH123HT x 3IIH6</td>\n",
       "      <td>7.566813</td>\n",
       "      <td>1.045453</td>\n",
       "      <td>SPAD</td>\n",
       "    </tr>\n",
       "    <tr>\n",
       "      <th>23</th>\n",
       "      <td>PHK76 x 3IIH6</td>\n",
       "      <td>6.982433</td>\n",
       "      <td>4.172421</td>\n",
       "      <td>SPAD</td>\n",
       "    </tr>\n",
       "    <tr>\n",
       "      <th>24</th>\n",
       "      <td>PHK76 x LH145</td>\n",
       "      <td>4.189897</td>\n",
       "      <td>6.617366</td>\n",
       "      <td>SPAD</td>\n",
       "    </tr>\n",
       "    <tr>\n",
       "      <th>25</th>\n",
       "      <td>PHK76 x LH82</td>\n",
       "      <td>-5.276127</td>\n",
       "      <td>4.226608</td>\n",
       "      <td>SPAD</td>\n",
       "    </tr>\n",
       "    <tr>\n",
       "      <th>26</th>\n",
       "      <td>WF9 x H95</td>\n",
       "      <td>19.870698</td>\n",
       "      <td>15.182273</td>\n",
       "      <td>SPAD</td>\n",
       "    </tr>\n",
       "    <tr>\n",
       "      <th>27</th>\n",
       "      <td>2FACC x 3IIH6</td>\n",
       "      <td>44.544350</td>\n",
       "      <td>89.973579</td>\n",
       "      <td>LA</td>\n",
       "    </tr>\n",
       "    <tr>\n",
       "      <th>28</th>\n",
       "      <td>B14A x Mo17</td>\n",
       "      <td>26.255446</td>\n",
       "      <td>44.482923</td>\n",
       "      <td>LA</td>\n",
       "    </tr>\n",
       "    <tr>\n",
       "      <th>29</th>\n",
       "      <td>B37 x H95</td>\n",
       "      <td>52.096393</td>\n",
       "      <td>31.660773</td>\n",
       "      <td>LA</td>\n",
       "    </tr>\n",
       "    <tr>\n",
       "      <th>30</th>\n",
       "      <td>B37 x Mo17</td>\n",
       "      <td>17.866299</td>\n",
       "      <td>16.907186</td>\n",
       "      <td>LA</td>\n",
       "    </tr>\n",
       "    <tr>\n",
       "      <th>31</th>\n",
       "      <td>B37 x OH43</td>\n",
       "      <td>-18.404812</td>\n",
       "      <td>-2.434964</td>\n",
       "      <td>LA</td>\n",
       "    </tr>\n",
       "    <tr>\n",
       "      <th>32</th>\n",
       "      <td>B84 x 3IIH6</td>\n",
       "      <td>23.774305</td>\n",
       "      <td>46.755660</td>\n",
       "      <td>LA</td>\n",
       "    </tr>\n",
       "    <tr>\n",
       "      <th>33</th>\n",
       "      <td>F42 x Mo17</td>\n",
       "      <td>38.296912</td>\n",
       "      <td>4.128448</td>\n",
       "      <td>LA</td>\n",
       "    </tr>\n",
       "    <tr>\n",
       "      <th>34</th>\n",
       "      <td>F42 x OH43</td>\n",
       "      <td>-7.973896</td>\n",
       "      <td>5.755313</td>\n",
       "      <td>LA</td>\n",
       "    </tr>\n",
       "    <tr>\n",
       "      <th>35</th>\n",
       "      <td>LH123HT x 3IIH6</td>\n",
       "      <td>11.927928</td>\n",
       "      <td>33.728533</td>\n",
       "      <td>LA</td>\n",
       "    </tr>\n",
       "    <tr>\n",
       "      <th>36</th>\n",
       "      <td>PHK76 x 3IIH6</td>\n",
       "      <td>17.028489</td>\n",
       "      <td>60.222841</td>\n",
       "      <td>LA</td>\n",
       "    </tr>\n",
       "    <tr>\n",
       "      <th>37</th>\n",
       "      <td>PHK76 x LH145</td>\n",
       "      <td>-2.412076</td>\n",
       "      <td>10.751863</td>\n",
       "      <td>LA</td>\n",
       "    </tr>\n",
       "    <tr>\n",
       "      <th>38</th>\n",
       "      <td>PHZ51 x LH145</td>\n",
       "      <td>26.085593</td>\n",
       "      <td>33.612833</td>\n",
       "      <td>LA</td>\n",
       "    </tr>\n",
       "    <tr>\n",
       "      <th>39</th>\n",
       "      <td>WF9 x H95</td>\n",
       "      <td>59.796087</td>\n",
       "      <td>41.212458</td>\n",
       "      <td>LA</td>\n",
       "    </tr>\n",
       "  </tbody>\n",
       "</table>\n",
       "</div>"
      ],
      "text/plain": [
       "             Hybrid  Observed Heterosis  Predicted Heterosis Trait\n",
       "0     2FACC x 3IIH6           17.063492            25.150766    FW\n",
       "1       B14A x Mo17           78.769018            40.798071    FW\n",
       "2        B37 x Mo17           28.478261            15.230531    FW\n",
       "3        B37 x OH43          -30.294906           -16.526290    FW\n",
       "4       B73 x 3IIH6            3.032659             9.741629    FW\n",
       "5        B73 x Mo17           -6.577975             9.557113    FW\n",
       "6       B73 x PHZ51           13.429952            -8.395925    FW\n",
       "7       B84 x 3IIH6           11.913357            10.014490    FW\n",
       "8        F42 x Mo17           17.481203            12.439531    FW\n",
       "9        F42 x OH43          -21.913203           -12.577348    FW\n",
       "10  LH123HT x 3IIH6            2.014218            15.698641    FW\n",
       "11     PHJ40 x LH82           -1.805054           -16.872240    FW\n",
       "12    PHZ51 x LH145           11.027190             4.564446    FW\n",
       "13        WF9 x H95           43.276489            16.149389    FW\n",
       "14    2FACC x 3IIH6           13.226501            15.655844  SPAD\n",
       "15      B14A x Mo17           15.894608            13.154273  SPAD\n",
       "16        B37 x H95           15.708692             7.105964  SPAD\n",
       "17       B37 x Mo17           13.703888             4.193709  SPAD\n",
       "18       B37 x OH43           15.787377             5.397756  SPAD\n",
       "19      B84 x 3IIH6           18.215399            12.482623  SPAD\n",
       "20       F42 x Mo17            4.281447             5.462999  SPAD\n",
       "21       F42 x OH43           12.425363             6.024180  SPAD\n",
       "22  LH123HT x 3IIH6            7.566813             1.045453  SPAD\n",
       "23    PHK76 x 3IIH6            6.982433             4.172421  SPAD\n",
       "24    PHK76 x LH145            4.189897             6.617366  SPAD\n",
       "25     PHK76 x LH82           -5.276127             4.226608  SPAD\n",
       "26        WF9 x H95           19.870698            15.182273  SPAD\n",
       "27    2FACC x 3IIH6           44.544350            89.973579    LA\n",
       "28      B14A x Mo17           26.255446            44.482923    LA\n",
       "29        B37 x H95           52.096393            31.660773    LA\n",
       "30       B37 x Mo17           17.866299            16.907186    LA\n",
       "31       B37 x OH43          -18.404812            -2.434964    LA\n",
       "32      B84 x 3IIH6           23.774305            46.755660    LA\n",
       "33       F42 x Mo17           38.296912             4.128448    LA\n",
       "34       F42 x OH43           -7.973896             5.755313    LA\n",
       "35  LH123HT x 3IIH6           11.927928            33.728533    LA\n",
       "36    PHK76 x 3IIH6           17.028489            60.222841    LA\n",
       "37    PHK76 x LH145           -2.412076            10.751863    LA\n",
       "38    PHZ51 x LH145           26.085593            33.612833    LA\n",
       "39        WF9 x H95           59.796087            41.212458    LA"
      ]
     },
     "execution_count": 42,
     "metadata": {},
     "output_type": "execute_result"
    }
   ],
   "source": [
    "data2"
   ]
  },
  {
   "cell_type": "code",
   "execution_count": 55,
   "metadata": {},
   "outputs": [],
   "source": [
    "observed_het = data2.loc[data2['Trait'] == 'FW', 'Observed Heterosis']\n",
    "predicted_het = data2.loc[data2['Trait'] == 'FW', 'Predicted Heterosis']\n"
   ]
  },
  {
   "cell_type": "code",
   "execution_count": 56,
   "metadata": {},
   "outputs": [],
   "source": [
    "plot_data= data2.loc[data2['Trait'] == 'FW' , :]"
   ]
  },
  {
   "cell_type": "code",
   "execution_count": 57,
   "metadata": {},
   "outputs": [],
   "source": [
    "from scipy.stats import pearsonr, spearmanr\n",
    "\n",
    "r, p = spearmanr(observed_het, predicted_het)\n",
    "r2 = r**2\n",
    "text =r2, p\n",
    "#text = [np.round(r2, 2) for r2 in text]\n",
    "text =(np.round(r2,2), np.round(p,3))"
   ]
  },
  {
   "cell_type": "code",
   "execution_count": 60,
   "metadata": {},
   "outputs": [
    {
     "data": {
      "text/plain": [
       "Text(0.5, 1.0, 'Heterosis Prediction Accuracy \\n for Fresh Leaf Weight')"
      ]
     },
     "execution_count": 60,
     "metadata": {},
     "output_type": "execute_result"
    },
    {
     "data": {
      "image/png": "[encoded data removed]",
      "text/plain": [
       "<Figure size 432x288 with 1 Axes>"
      ]
     },
     "metadata": {},
     "output_type": "display_data"
    }
   ],
   "source": [
    "text1 = 'r$^2$=%s' % text[0]\n",
    "sns.regplot(x='Observed Heterosis', y='Predicted Heterosis' , scatter_kws={'s' : 15}, data=plot_data)\n",
    "xmin , xmax , ymin, ymax = plt.axis()\n",
    "sns.scatterplot(x='Observed Heterosis', y='Predicted Heterosis', data=plot_data).text((-20), ymax*0.90, text1, fontsize=13)\n",
    "plt.xlabel('Observed Mid-Parent Heterosis', fontsize=14)\n",
    "plt.ylabel('Predicted Mid-Parent Heterosis', fontsize=14)\n",
    "plt.title('Heterosis Prediction Accuracy \\n for Fresh Leaf Weight', fontsize=18)"
   ]
  },
  {
   "cell_type": "code",
   "execution_count": 47,
   "metadata": {},
   "outputs": [
    {
     "name": "stdout",
     "output_type": "stream",
     "text": [
      "0.3448073252063669 8.146472553754282e-12\n"
     ]
    }
   ],
   "source": [
    "from scipy.stats import pearsonr, spearmanr\n",
    "#y_pred2 = [x[0] for x in y_pred]\n",
    "\n",
    "r, p = spearmanr(y_test, y_pred)\n",
    "r2 = r**2\n",
    "print(r2, p)"
   ]
  },
  {
   "cell_type": "code",
   "execution_count": 48,
   "metadata": {
    "scrolled": true
   },
   "outputs": [
    {
     "data": {
      "text/plain": [
       "Text(0.5, 0, 'Ground truth Leaf Weight')"
      ]
     },
     "execution_count": 48,
     "metadata": {},
     "output_type": "execute_result"
    },
    {
     "data": {
      "image/png": "[encoded data removed]",
      "text/plain": [
       "<Figure size 432x288 with 1 Axes>"
      ]
     },
     "metadata": {},
     "output_type": "display_data"
    }
   ],
   "source": [
    "text2 = 'r$^2$=%s' % np.round(r2,2)\n",
    "plt.scatter(y_test, y_pred)\n",
    "sns.regplot(x = y_test , y = y_pred)#.text(2,12,text2, fontsize=14)\n",
    "plt.ylabel('Predicted Lea Weight', fontsize=14)\n",
    "plt.xlabel('Ground truth Leaf Weight', fontsize=14)\n",
    "\n"
   ]
  },
  {
   "cell_type": "code",
   "execution_count": 49,
   "metadata": {},
   "outputs": [
    {
     "ename": "SyntaxError",
     "evalue": "invalid syntax (<ipython-input-49-ee06822a3dad>, line 2)",
     "output_type": "error",
     "traceback": [
      "\u001b[0;36m  File \u001b[0;32m\"<ipython-input-49-ee06822a3dad>\"\u001b[0;36m, line \u001b[0;32m2\u001b[0m\n\u001b[0;31m    data = pd.read_csv('GS2_processed_spectrum.csv')a\u001b[0m\n\u001b[0m                                                    ^\u001b[0m\n\u001b[0;31mSyntaxError\u001b[0m\u001b[0;31m:\u001b[0m invalid syntax\n"
     ]
    }
   ],
   "source": [
    "#reading the GS2 spectrum (without ground truth)\n",
    "data = pd.read_csv('GS2_processed_spectrum.csv')a"
   ]
  },
  {
   "cell_type": "code",
   "execution_count": null,
   "metadata": {},
   "outputs": [],
   "source": [
    "plotrep = data.loc[: , ['PLOT ID', 'Rep']]"
   ]
  },
  {
   "cell_type": "code",
   "execution_count": null,
   "metadata": {},
   "outputs": [],
   "source": [
    "# identifying the X\n",
    "position_350 = data.columns.get_loc('450')\n",
    "position_2500 = data.columns.get_loc('2500') + 1 \n",
    "X_test = data.iloc[:, position_350 : position_2500]"
   ]
  },
  {
   "cell_type": "code",
   "execution_count": null,
   "metadata": {},
   "outputs": [],
   "source": [
    "### train a model with GS1 dataset calculate RMSE\n",
    "pls = PLSRegression(n_components=11)\n",
    "pls.fit(X , y)"
   ]
  },
  {
   "cell_type": "code",
   "execution_count": null,
   "metadata": {},
   "outputs": [],
   "source": [
    "y_pred = pls.predict(X_test)"
   ]
  },
  {
   "cell_type": "code",
   "execution_count": null,
   "metadata": {},
   "outputs": [],
   "source": [
    "y_pred = pd.DataFrame(y_pred)"
   ]
  },
  {
   "cell_type": "code",
   "execution_count": null,
   "metadata": {},
   "outputs": [],
   "source": [
    "y_pred = pd.concat([plotrep, y_pred], axis=1)"
   ]
  },
  {
   "cell_type": "code",
   "execution_count": null,
   "metadata": {},
   "outputs": [],
   "source": [
    "y_pred.rename(columns={0 : trait + '_pred'}, inplace=True)"
   ]
  },
  {
   "cell_type": "code",
   "execution_count": null,
   "metadata": {},
   "outputs": [],
   "source": [
    "y_pred"
   ]
  },
  {
   "cell_type": "code",
   "execution_count": null,
   "metadata": {},
   "outputs": [],
   "source": [
    "#reading the GS2 ground truth\n",
    "data_gs2_gt= pd.read_csv('GS2-gt.csv')"
   ]
  },
  {
   "cell_type": "code",
   "execution_count": null,
   "metadata": {},
   "outputs": [],
   "source": [
    "data_gs2_gt"
   ]
  },
  {
   "cell_type": "code",
   "execution_count": null,
   "metadata": {},
   "outputs": [],
   "source": [
    "gtvspred = pd.merge(data_gs2_gt,y_pred, how='outer')"
   ]
  },
  {
   "cell_type": "code",
   "execution_count": null,
   "metadata": {
    "scrolled": true
   },
   "outputs": [],
   "source": [
    "gtvspred"
   ]
  },
  {
   "cell_type": "code",
   "execution_count": null,
   "metadata": {},
   "outputs": [],
   "source": [
    "# Calculate the spearman correlation , r2 and p value and pass them into the 'text'\n",
    "\n",
    "from scipy.stats import pearsonr, spearmanr\n",
    "#y_pred2 = [x[0] for x in data_plot.predicted]\n",
    "r, p = spearmanr(gtvspred[trait], gtvspred[trait + '_pred'])\n",
    "r2 = r**2\n",
    "text =r2, p\n",
    "text = [np.round(r2, 2) for r2 in text]"
   ]
  },
  {
   "cell_type": "code",
   "execution_count": null,
   "metadata": {},
   "outputs": [],
   "source": [
    "#plot the results\n",
    "text1 = 'r2=%s, p=%s' % (text[0], text[1])\n",
    "sns.regplot(x=trait, y=trait + '_pred' , scatter_kws={'s' : 15}, data=gtvspred)\n",
    "xmin , xmax , ymin, ymax = plt.axis()\n",
    "sns.scatterplot(x=trait, y=trait + '_pred', data=gtvspred).text((xmax)/2, ymax*0.96, text1, fontsize=12)\n",
    "#plt.xlabel('Ground Truth' + ' ' + trait)\n",
    "#plt.ylabel('Predicted' + ' ' + trait + ' ' + 'Values')\n",
    "#plt.title(trait + ' ' + 'PLSR'"
   ]
  },
  {
   "cell_type": "code",
   "execution_count": null,
   "metadata": {},
   "outputs": [],
   "source": [
    "r2"
   ]
  },
  {
   "cell_type": "code",
   "execution_count": null,
   "metadata": {},
   "outputs": [],
   "source": [
    "#calculating sqroot of r2\n",
    "r2.sqrt()"
   ]
  }
 ],
 "metadata": {
  "kernelspec": {
   "display_name": "Python 3",
   "language": "python",
   "name": "python3"
  },
  "language_info": {
   "codemirror_mode": {
    "name": "ipython",
    "version": 3
   },
   "file_extension": ".py",
   "mimetype": "text/x-python",
   "name": "python",
   "nbconvert_exporter": "python",
   "pygments_lexer": "ipython3",
   "version": "3.6.9"
  }
 },
 "nbformat": 4,
 "nbformat_minor": 2
}
