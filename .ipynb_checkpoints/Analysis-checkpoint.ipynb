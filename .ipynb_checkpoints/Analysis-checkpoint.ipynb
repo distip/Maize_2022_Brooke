{
 "cells": [
  {
   "cell_type": "code",
   "execution_count": 1,
   "metadata": {},
   "outputs": [],
   "source": [
    "import pandas as pd\n",
    "import numpy as np\n",
    "import matplotlib.pyplot as plt\n",
    "import seaborn as sns\n",
    "from sklearn.preprocessing import scale \n",
    "from sklearn.preprocessing import StandardScaler\n",
    "from sklearn import model_selection\n",
    "from sklearn.model_selection import RepeatedKFold\n",
    "from sklearn.model_selection import train_test_split\n",
    "from sklearn.cross_decomposition import PLSRegression\n",
    "from sklearn.metrics import mean_squared_error\n",
    "from sklearn.metrics import r2_score\n",
    "from scipy.signal import savgol_filter"
   ]
  },
  {
   "cell_type": "code",
   "execution_count": 2,
   "metadata": {},
   "outputs": [],
   "source": [
    "data = pd.read_csv('GS1_ready_for_analysis.csv')"
   ]
  },
  {
   "cell_type": "code",
   "execution_count": 3,
   "metadata": {},
   "outputs": [
    {
     "data": {
      "text/plain": [
       "Index(['Unnamed: 0', 'Field Location', 'Source', 'PLOT ID', 'Genotype', 'Rep',\n",
       "       'Plant Number', 'Trt', 'Growth Stage', 'SPADmeter', 'Ambient Humidity',\n",
       "       'Ambient Pressure', 'Ambient Temperature', 'FmPrime', 'FoPrime', 'Fs',\n",
       "       'FvP_over_FmP', 'Leaf Temperature', 'Leaf Temperature Differential',\n",
       "       'leaf_thickness', 'LEF', 'NPQt', 'Phi2', 'PhiNO', 'PhiNPQ',\n",
       "       'PS1 Active Centers', 'PS1 Open Centers', 'PS1 Over Reduced Centers',\n",
       "       'PS1 Oxidized Centers', 'qL', 'SPAD_multispeq', 'vH+', 'Fresh Weight',\n",
       "       'Leaf Area', '350'],\n",
       "      dtype='object')"
      ]
     },
     "execution_count": 3,
     "metadata": {},
     "output_type": "execute_result"
    }
   ],
   "source": [
    "#looking at the columns\n",
    "data.columns[0:35]"
   ]
  },
  {
   "cell_type": "code",
   "execution_count": 4,
   "metadata": {},
   "outputs": [
    {
     "data": {
      "text/html": [
       "<div>\n",
       "<style scoped>\n",
       "    .dataframe tbody tr th:only-of-type {\n",
       "        vertical-align: middle;\n",
       "    }\n",
       "\n",
       "    .dataframe tbody tr th {\n",
       "        vertical-align: top;\n",
       "    }\n",
       "\n",
       "    .dataframe thead th {\n",
       "        text-align: right;\n",
       "    }\n",
       "</style>\n",
       "<table border=\"1\" class=\"dataframe\">\n",
       "  <thead>\n",
       "    <tr style=\"text-align: right;\">\n",
       "      <th></th>\n",
       "      <th>Unnamed: 0</th>\n",
       "      <th>Field Location</th>\n",
       "      <th>Source</th>\n",
       "      <th>PLOT ID</th>\n",
       "      <th>Genotype</th>\n",
       "      <th>Rep</th>\n",
       "      <th>Plant Number</th>\n",
       "      <th>Trt</th>\n",
       "      <th>Growth Stage</th>\n",
       "      <th>SPADmeter</th>\n",
       "      <th>...</th>\n",
       "      <th>2491</th>\n",
       "      <th>2492</th>\n",
       "      <th>2493</th>\n",
       "      <th>2494</th>\n",
       "      <th>2495</th>\n",
       "      <th>2496</th>\n",
       "      <th>2497</th>\n",
       "      <th>2498</th>\n",
       "      <th>2499</th>\n",
       "      <th>2500</th>\n",
       "    </tr>\n",
       "  </thead>\n",
       "  <tbody>\n",
       "    <tr>\n",
       "      <th>0</th>\n",
       "      <td>0</td>\n",
       "      <td>HIPS</td>\n",
       "      <td>field</td>\n",
       "      <td>4104</td>\n",
       "      <td>PHJ40 x LH82</td>\n",
       "      <td>1</td>\n",
       "      <td>1</td>\n",
       "      <td>LN</td>\n",
       "      <td>1.0</td>\n",
       "      <td>NaN</td>\n",
       "      <td>...</td>\n",
       "      <td>0.062700</td>\n",
       "      <td>0.062171</td>\n",
       "      <td>0.061800</td>\n",
       "      <td>0.061500</td>\n",
       "      <td>0.061125</td>\n",
       "      <td>0.060867</td>\n",
       "      <td>0.060542</td>\n",
       "      <td>0.060100</td>\n",
       "      <td>0.059867</td>\n",
       "      <td>0.0600</td>\n",
       "    </tr>\n",
       "    <tr>\n",
       "      <th>1</th>\n",
       "      <td>1</td>\n",
       "      <td>HIPS</td>\n",
       "      <td>GH</td>\n",
       "      <td>4104</td>\n",
       "      <td>PHJ40 x LH82</td>\n",
       "      <td>1</td>\n",
       "      <td>1</td>\n",
       "      <td>LN</td>\n",
       "      <td>1.0</td>\n",
       "      <td>43.566667</td>\n",
       "      <td>...</td>\n",
       "      <td>0.062700</td>\n",
       "      <td>0.062171</td>\n",
       "      <td>0.061800</td>\n",
       "      <td>0.061500</td>\n",
       "      <td>0.061125</td>\n",
       "      <td>0.060867</td>\n",
       "      <td>0.060542</td>\n",
       "      <td>0.060100</td>\n",
       "      <td>0.059867</td>\n",
       "      <td>0.0600</td>\n",
       "    </tr>\n",
       "    <tr>\n",
       "      <th>2</th>\n",
       "      <td>2</td>\n",
       "      <td>HIPS</td>\n",
       "      <td>field</td>\n",
       "      <td>4104</td>\n",
       "      <td>PHJ40 x LH82</td>\n",
       "      <td>1</td>\n",
       "      <td>2</td>\n",
       "      <td>LN</td>\n",
       "      <td>1.0</td>\n",
       "      <td>NaN</td>\n",
       "      <td>...</td>\n",
       "      <td>0.072433</td>\n",
       "      <td>0.072067</td>\n",
       "      <td>0.071808</td>\n",
       "      <td>0.071633</td>\n",
       "      <td>0.071400</td>\n",
       "      <td>0.071200</td>\n",
       "      <td>0.070867</td>\n",
       "      <td>0.070270</td>\n",
       "      <td>0.069833</td>\n",
       "      <td>0.0693</td>\n",
       "    </tr>\n",
       "    <tr>\n",
       "      <th>3</th>\n",
       "      <td>3</td>\n",
       "      <td>HIPS</td>\n",
       "      <td>GH</td>\n",
       "      <td>4104</td>\n",
       "      <td>PHJ40 x LH82</td>\n",
       "      <td>1</td>\n",
       "      <td>2</td>\n",
       "      <td>LN</td>\n",
       "      <td>1.0</td>\n",
       "      <td>49.500000</td>\n",
       "      <td>...</td>\n",
       "      <td>0.072433</td>\n",
       "      <td>0.072067</td>\n",
       "      <td>0.071808</td>\n",
       "      <td>0.071633</td>\n",
       "      <td>0.071400</td>\n",
       "      <td>0.071200</td>\n",
       "      <td>0.070867</td>\n",
       "      <td>0.070270</td>\n",
       "      <td>0.069833</td>\n",
       "      <td>0.0693</td>\n",
       "    </tr>\n",
       "    <tr>\n",
       "      <th>4</th>\n",
       "      <td>4</td>\n",
       "      <td>HIPS</td>\n",
       "      <td>field</td>\n",
       "      <td>4106</td>\n",
       "      <td>2FACC x 3IIH6</td>\n",
       "      <td>1</td>\n",
       "      <td>1</td>\n",
       "      <td>LN</td>\n",
       "      <td>1.0</td>\n",
       "      <td>NaN</td>\n",
       "      <td>...</td>\n",
       "      <td>0.054533</td>\n",
       "      <td>0.054333</td>\n",
       "      <td>0.054086</td>\n",
       "      <td>0.053700</td>\n",
       "      <td>0.053433</td>\n",
       "      <td>0.053167</td>\n",
       "      <td>0.052833</td>\n",
       "      <td>0.052533</td>\n",
       "      <td>0.052233</td>\n",
       "      <td>0.0518</td>\n",
       "    </tr>\n",
       "  </tbody>\n",
       "</table>\n",
       "<p>5 rows × 2185 columns</p>\n",
       "</div>"
      ],
      "text/plain": [
       "   Unnamed: 0 Field Location Source  PLOT ID       Genotype  Rep  \\\n",
       "0           0           HIPS  field     4104   PHJ40 x LH82    1   \n",
       "1           1           HIPS     GH     4104   PHJ40 x LH82    1   \n",
       "2           2           HIPS  field     4104   PHJ40 x LH82    1   \n",
       "3           3           HIPS     GH     4104   PHJ40 x LH82    1   \n",
       "4           4           HIPS  field     4106  2FACC x 3IIH6    1   \n",
       "\n",
       "   Plant Number Trt  Growth Stage  SPADmeter  ...      2491      2492  \\\n",
       "0             1  LN           1.0        NaN  ...  0.062700  0.062171   \n",
       "1             1  LN           1.0  43.566667  ...  0.062700  0.062171   \n",
       "2             2  LN           1.0        NaN  ...  0.072433  0.072067   \n",
       "3             2  LN           1.0  49.500000  ...  0.072433  0.072067   \n",
       "4             1  LN           1.0        NaN  ...  0.054533  0.054333   \n",
       "\n",
       "       2493      2494      2495      2496      2497      2498      2499  \\\n",
       "0  0.061800  0.061500  0.061125  0.060867  0.060542  0.060100  0.059867   \n",
       "1  0.061800  0.061500  0.061125  0.060867  0.060542  0.060100  0.059867   \n",
       "2  0.071808  0.071633  0.071400  0.071200  0.070867  0.070270  0.069833   \n",
       "3  0.071808  0.071633  0.071400  0.071200  0.070867  0.070270  0.069833   \n",
       "4  0.054086  0.053700  0.053433  0.053167  0.052833  0.052533  0.052233   \n",
       "\n",
       "     2500  \n",
       "0  0.0600  \n",
       "1  0.0600  \n",
       "2  0.0693  \n",
       "3  0.0693  \n",
       "4  0.0518  \n",
       "\n",
       "[5 rows x 2185 columns]"
      ]
     },
     "execution_count": 4,
     "metadata": {},
     "output_type": "execute_result"
    }
   ],
   "source": [
    "data.head()"
   ]
  },
  {
   "cell_type": "code",
   "execution_count": null,
   "metadata": {},
   "outputs": [],
   "source": [
    "sam_spectrum = data.loc[data['Field Location'] == 'SAM']"
   ]
  },
  {
   "cell_type": "code",
   "execution_count": 5,
   "metadata": {},
   "outputs": [
    {
     "data": {
      "text/plain": [
       "HIPS    431\n",
       "SAM      68\n",
       "Name: Field Location, dtype: int64"
      ]
     },
     "execution_count": 5,
     "metadata": {},
     "output_type": "execute_result"
    }
   ],
   "source": [
    "data['Field Location'].value_counts()"
   ]
  },
  {
   "cell_type": "code",
   "execution_count": null,
   "metadata": {},
   "outputs": [],
   "source": []
  },
  {
   "cell_type": "code",
   "execution_count": 147,
   "metadata": {},
   "outputs": [],
   "source": [
    "# selecting the source\n",
    "data =data.loc[data['Source'] == 'GH' , :]"
   ]
  },
  {
   "cell_type": "code",
   "execution_count": 158,
   "metadata": {},
   "outputs": [],
   "source": [
    "# identifying the X\n",
    "position_350 = data.columns.get_loc('350')\n",
    "position_2500 = data.columns.get_loc('2500') + 1 \n",
    "X = data.iloc[:, position_350 : position_2500]"
   ]
  },
  {
   "cell_type": "code",
   "execution_count": 160,
   "metadata": {},
   "outputs": [
    {
     "data": {
      "text/plain": [
       "(216, 2151)"
      ]
     },
     "execution_count": 160,
     "metadata": {},
     "output_type": "execute_result"
    }
   ],
   "source": [
    "X.shape"
   ]
  }
 ],
 "metadata": {
  "kernelspec": {
   "display_name": "Python 3 (ipykernel)",
   "language": "python",
   "name": "python3"
  },
  "language_info": {
   "codemirror_mode": {
    "name": "ipython",
    "version": 3
   },
   "file_extension": ".py",
   "mimetype": "text/x-python",
   "name": "python",
   "nbconvert_exporter": "python",
   "pygments_lexer": "ipython3",
   "version": "3.9.7"
  }
 },
 "nbformat": 4,
 "nbformat_minor": 2
}
